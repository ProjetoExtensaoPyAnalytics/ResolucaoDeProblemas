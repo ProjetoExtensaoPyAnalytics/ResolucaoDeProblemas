{
 "cells": [
  {
   "cell_type": "code",
   "execution_count": 1,
   "metadata": {},
   "outputs": [],
   "source": [
    "import pandas as pd\n"
   ]
  },
  {
   "cell_type": "code",
   "execution_count": 11,
   "metadata": {},
   "outputs": [],
   "source": [
    "# remove ... when show too many lines\n",
    "pd.set_option('display.max_rows', 1000)"
   ]
  },
  {
   "cell_type": "code",
   "execution_count": 2,
   "metadata": {},
   "outputs": [
    {
     "data": {
      "text/html": [
       "<div>\n",
       "<style scoped>\n",
       "    .dataframe tbody tr th:only-of-type {\n",
       "        vertical-align: middle;\n",
       "    }\n",
       "\n",
       "    .dataframe tbody tr th {\n",
       "        vertical-align: top;\n",
       "    }\n",
       "\n",
       "    .dataframe thead th {\n",
       "        text-align: right;\n",
       "    }\n",
       "</style>\n",
       "<table border=\"1\" class=\"dataframe\">\n",
       "  <thead>\n",
       "    <tr style=\"text-align: right;\">\n",
       "      <th></th>\n",
       "      <th>grupo</th>\n",
       "      <th>subgrupo</th>\n",
       "      <th>indicador</th>\n",
       "      <th>ano</th>\n",
       "      <th>valor</th>\n",
       "    </tr>\n",
       "  </thead>\n",
       "  <tbody>\n",
       "    <tr>\n",
       "      <th>0</th>\n",
       "      <td>DADOS GERAIS</td>\n",
       "      <td>POPULAÇÃO</td>\n",
       "      <td>População</td>\n",
       "      <td>2010</td>\n",
       "      <td>61310.0</td>\n",
       "    </tr>\n",
       "    <tr>\n",
       "      <th>1</th>\n",
       "      <td>DADOS GERAIS</td>\n",
       "      <td>POPULAÇÃO</td>\n",
       "      <td>População</td>\n",
       "      <td>2011</td>\n",
       "      <td>61817.0</td>\n",
       "    </tr>\n",
       "    <tr>\n",
       "      <th>2</th>\n",
       "      <td>DADOS GERAIS</td>\n",
       "      <td>POPULAÇÃO</td>\n",
       "      <td>População</td>\n",
       "      <td>2012</td>\n",
       "      <td>62308.0</td>\n",
       "    </tr>\n",
       "    <tr>\n",
       "      <th>3</th>\n",
       "      <td>DADOS GERAIS</td>\n",
       "      <td>POPULAÇÃO</td>\n",
       "      <td>População</td>\n",
       "      <td>2013</td>\n",
       "      <td>64405.0</td>\n",
       "    </tr>\n",
       "    <tr>\n",
       "      <th>4</th>\n",
       "      <td>DADOS GERAIS</td>\n",
       "      <td>POPULAÇÃO</td>\n",
       "      <td>População</td>\n",
       "      <td>2014</td>\n",
       "      <td>65090.0</td>\n",
       "    </tr>\n",
       "  </tbody>\n",
       "</table>\n",
       "</div>"
      ],
      "text/plain": [
       "          grupo   subgrupo  indicador   ano    valor\n",
       "0  DADOS GERAIS  POPULAÇÃO  População  2010  61310.0\n",
       "1  DADOS GERAIS  POPULAÇÃO  População  2011  61817.0\n",
       "2  DADOS GERAIS  POPULAÇÃO  População  2012  62308.0\n",
       "3  DADOS GERAIS  POPULAÇÃO  População  2013  64405.0\n",
       "4  DADOS GERAIS  POPULAÇÃO  População  2014  65090.0"
      ]
     },
     "execution_count": 2,
     "metadata": {},
     "output_type": "execute_result"
    }
   ],
   "source": [
    "df = pd.read_csv('chart_results.csv')\n",
    "df.head()"
   ]
  },
  {
   "cell_type": "code",
   "execution_count": 6,
   "metadata": {},
   "outputs": [
    {
     "name": "stdout",
     "output_type": "stream",
     "text": [
      "(3003, 5)\n",
      "(1831, 5)\n"
     ]
    }
   ],
   "source": [
    "print(df.shape)\n",
    "df = df[df['valor'] != 0]\n",
    "print(df.shape)"
   ]
  },
  {
   "cell_type": "code",
   "execution_count": 7,
   "metadata": {},
   "outputs": [
    {
     "data": {
      "text/plain": [
       "grupo\n",
       "BENEFÍCIOS DO SANEAMENTO         900\n",
       "OPERAÇÕES DE SANEAMENTO          470\n",
       "ESFORÇOS PARA UNIVERSALIZAÇÃO    307\n",
       "DADOS GERAIS                     154\n",
       "Name: count, dtype: int64"
      ]
     },
     "execution_count": 7,
     "metadata": {},
     "output_type": "execute_result"
    }
   ],
   "source": [
    "df['grupo'].value_counts()"
   ]
  },
  {
   "cell_type": "code",
   "execution_count": 8,
   "metadata": {},
   "outputs": [
    {
     "data": {
      "text/plain": [
       "subgrupo\n",
       "SAÚDE                    518\n",
       "EDUCAÇÃO                 264\n",
       "COBERTURA                214\n",
       "IMPACTOS                 208\n",
       "CUSTOS E RECEITAS        160\n",
       "VALORIZAÇÃO AMBIENTAL     88\n",
       "ESFORÇO                   65\n",
       "EFICIÊNCIA                52\n",
       "RENDA                     48\n",
       "PRODUÇÃO                  44\n",
       "MORADIA                   42\n",
       "POPULAÇÃO                 38\n",
       "REDES                     34\n",
       "PRODUTIVIDADE             30\n",
       "AREA                      26\n",
       "Name: count, dtype: int64"
      ]
     },
     "execution_count": 8,
     "metadata": {},
     "output_type": "execute_result"
    }
   ],
   "source": [
    "df['subgrupo'].value_counts()"
   ]
  },
  {
   "cell_type": "code",
   "execution_count": 9,
   "metadata": {},
   "outputs": [
    {
     "data": {
      "text/plain": [
       "ano\n",
       "2017    155\n",
       "2019    152\n",
       "2015    146\n",
       "2014    145\n",
       "2016    145\n",
       "2011    144\n",
       "2013    143\n",
       "2018    142\n",
       "2012    140\n",
       "2022    133\n",
       "2021    131\n",
       "2020    128\n",
       "2010    127\n",
       "Name: count, dtype: int64"
      ]
     },
     "execution_count": 9,
     "metadata": {},
     "output_type": "execute_result"
    }
   ],
   "source": [
    "df['ano'].value_counts()"
   ]
  },
  {
   "cell_type": "code",
   "execution_count": 12,
   "metadata": {},
   "outputs": [
    {
     "data": {
      "text/plain": [
       "indicador\n",
       "População                                                                   13\n",
       "Custo com os serviços de saneamento                                         13\n",
       "Internações por doenças respiratórias (40 a 59 anos de idade)               13\n",
       "Internações por doenças respiratórias (30 a 39 anos de idade)               13\n",
       "Internações por doenças respiratórias (20 a 29 anos de idade)               13\n",
       "Internações por doenças respiratórias (15 a 19 anos de idade)               13\n",
       "Internações por doenças respiratórias (5 a 14 anos de idade)                13\n",
       "Internações por doenças respiratórias (0 a 4 anos de idade)                 13\n",
       "Internações por doenças respiratórias em homens                             13\n",
       "Internações por doenças respiratórias em mulheres                           13\n",
       "Internações por doenças respiratórias                                       13\n",
       "Despesas com internações por diarreia                                       13\n",
       "Despesas com internações por doenças de veiculação hídrica                  13\n",
       "População SNIS                                                              13\n",
       "Incidência de internações por diarreia                                      13\n",
       "Incidência de internações totais por doenças de veiculação hídrica          13\n",
       "Internações totais de pessoas autodeclaradas brancas                        13\n",
       "Internações totais - 60 a 79 anos                                           13\n",
       "Internações totais - 40 a 59 anos                                           13\n",
       "Internações totais - 30 a 39 anos                                           13\n",
       "Internações totais - 20 a 29 anos                                           13\n",
       "Internações totais - 5 a 14 anos                                            13\n",
       "Internações totais - 0 a 4 anos                                             13\n",
       "Internações totais - homens                                                 13\n",
       "Internações totais - mulheres                                               13\n",
       "Internações por diarreia                                                    13\n",
       "Internações totais por doenças de veiculação hídrica                        13\n",
       "Custo com energia elétrica                                                  13\n",
       "Custo com produtos químicos                                                 13\n",
       "Internações por doenças respiratórias (60 a 79 anos de idade)               13\n",
       "Internações por doenças respiratórias (mais de 80 anos de idade)            13\n",
       "Internações por doenças respiratórias de pessoas autodeclaradas brancas     13\n",
       "Empregos induzidos - investimentos                                          13\n",
       "Renda induzida - operação, em R$ de 2022                                    13\n",
       "Renda indireta - operação, em R$ de 2022                                    13\n",
       "Renda direta - operação, em R$ de 2022                                      13\n",
       "Emprego total - operação                                                    13\n",
       "Empregos induzidos - operação                                               13\n",
       "Empregos indiretos - operação                                               13\n",
       "Empregos diretos - operação                                                 13\n",
       "Renda total - investimentos, em R$ de 2022                                  13\n",
       "Renda induzida - investimentos, em R$ de 2022                               13\n",
       "Renda indireta - investimentos , em R$ de 2022                              13\n",
       "Renda direta - investimentos, em R$ de 2022                                 13\n",
       "Emprego total - investimentos                                               13\n",
       "Empregos indiretos - investimentos                                          13\n",
       "Internações por doenças respiratórias de pessoas autodeclaradas pretas      13\n",
       "Empregos diretos - investimentos                                            13\n",
       "Investimentos per capita, em R$ de 2022                                     13\n",
       "Investimentos totais, em R$ de 2022                                         13\n",
       "Investimentos do prestador, em R$ de 2022                                   13\n",
       "Investimentos totais                                                        13\n",
       "Investimentos do prestador                                                  13\n",
       "Extensão da rede de água                                                    13\n",
       "Incidência de óbitos por doenças respiratórias                              13\n",
       "Incidência de internações por doenças respiratórias                         13\n",
       "Óbitos por doenças respiratórias                                            13\n",
       "Custo das internações por doenças respiratórias                             13\n",
       "Internações por doenças respiratórias de pessoas autodeclaradas pardas      13\n",
       "Custo com pessoal                                                           13\n",
       "Renda total - operação, em R$ de 2022                                       13\n",
       "Despesas per capita com saneamento, R$ a preços de 2022                     13\n",
       "Economias ativas por pessoal total (equivalente)                            13\n",
       "População sem coleta de esgoto                                              13\n",
       "Parcela da população sem acesso à água                                      13\n",
       "Parcela da população com acesso à água                                      13\n",
       "Consumo de água                                                             13\n",
       "População sem acesso à água                                                 13\n",
       "Densidade demográfica                                                       13\n",
       "Consumo per capita de água                                                  13\n",
       "Área do município                                                           13\n",
       "População com acesso à água                                                 13\n",
       "Perdas na distribuição                                                      13\n",
       "Perdas no faturamento                                                       13\n",
       "Parcela da população sem coleta de esgoto                                   13\n",
       "Tarifa de água                                                              13\n",
       "Despesas per capita com saneamento                                          13\n",
       "Receita direta e indireta total a preços de 2022                            13\n",
       "Tarifa dos serviços de saneamento                                           13\n",
       "Receita direta e indireta total                                             13\n",
       "Economias ativas por pessoal próprio                                        13\n",
       "Receita direta com água                                                     13\n",
       "Nota média em ciências da natureza no ENEM                                  12\n",
       "Nota média no ENEM - com banheiro                                           12\n",
       "Parcela da população urbana sem acesso à água                               12\n",
       "Parcela da população urbana com acesso à água                               12\n",
       "População urbana sem acesso à água                                          12\n",
       "População urbana com acesso à água                                          12\n",
       "Nota na redação no ENEM - com banheiro                                      12\n",
       "Nota média no ENEM em matemática                                            12\n",
       "Nota média na redação no ENEM                                               12\n",
       "Nota em ciências da natureza no ENEM - com banheiro                         12\n",
       "Nota média em linguagens e códigos no ENEM                                  12\n",
       "Nota em linguagens e códigos no ENEM - com banheiro                         12\n",
       "Nota média em ciências humanas no ENEM                                      12\n",
       "Empregados no turismo                                                       12\n",
       "Nota em ciências humanas no ENEM - com banheiro                             12\n",
       "Nota em matemática no ENEM - com banheiro                                   12\n",
       "População urbana sem coleta de esgoto                                       12\n",
       "Parcela da população urbana sem coleta de esgoto                            12\n",
       "Custo com serviços de terceiros                                             12\n",
       "População urbana                                                            12\n",
       "PIB                                                                         12\n",
       "Internações totais - 80 anos ou mais                                        12\n",
       "PIB a preços de 2022                                                        12\n",
       "PIB per capita a preços de 2022                                             12\n",
       "PIB per capita                                                              12\n",
       "Nota média no ENEM                                                          12\n",
       "Parcela dos empregados que trabalha no setor de turismo                     12\n",
       "Variação anual da rede de água                                              12\n",
       "Renda média do trabalho no turismo                                          12\n",
       "Parcela das moradias com banheiro                                           11\n",
       "Moradias                                                                    11\n",
       "Densidade domiciliar                                                        11\n",
       "Moradias com banheiro                                                       11\n",
       "Internações totais - 15 a 19 anos                                           11\n",
       "Renda do trabalho no turismo - sem saneamento                               11\n",
       "Renda do trabalho no turismo - com saneamento                               11\n",
       "Nota em ciências humanas no ENEM - sem banheiro                             10\n",
       "Nota em ciências da natureza no ENEM - sem banheiro                         10\n",
       "Densidade domiciliar urbana                                                 10\n",
       "Valor médio dos aluguéis                                                    10\n",
       "Moradias urbanas                                                            10\n",
       "Nota na redação no ENEM - sem banheiro                                      10\n",
       "Nota em linguagens e códigos no ENEM - sem banheiro                         10\n",
       "Aluguel médio das moradias sem saneamento                                   10\n",
       "Nota em matemática no ENEM - sem banheiro                                   10\n",
       "Aluguel médio das moradias com saneamento                                   10\n",
       "Renda média do trabalho                                                     10\n",
       "Nota média no ENEM - sem banheiro                                           10\n",
       "Escolaridade das pessoas com saneamento                                     10\n",
       "Atraso escolar médio                                                        10\n",
       "Renda das pessoas com saneamento                                            10\n",
       "Renda das pessoas sem saneamento                                            10\n",
       "Internações por doenças respiratórias de pessoas autodeclaradas amarelas    10\n",
       "Escolaridade das pessoas sem saneamento                                     10\n",
       "Atraso escolar dos jovens sem saneamento                                    10\n",
       "Atraso escolar dos jovens com saneamento                                    10\n",
       "Escolaridade média da população                                             10\n",
       "Óbitos por doenças de veiculação hídrica                                     9\n",
       "Taxa de óbitos por doenças de veiculação hídrica                             9\n",
       "Internações totais de pessoas autodeclaradas pardas                          6\n",
       "Parcela da população com coleta de esgoto                                    6\n",
       "População com coleta de esgoto                                               6\n",
       "Esgoto tratado                                                               6\n",
       "Esgoto coletado                                                              6\n",
       "Índice de esgoto tratado referido à água consumida                           6\n",
       "Extensão da rede de esgoto                                                   6\n",
       "Internações por leptospirose                                                 6\n",
       "Incidência de internações por leptospirose                                   6\n",
       "Despesas com internações por leptospirose                                    6\n",
       "Moradias sem banheiro                                                        5\n",
       "População urbana com coleta de esgoto                                        5\n",
       "Parcela das moradias sem banheiro                                            5\n",
       "Parcela da população urbana com coleta de esgoto                             5\n",
       "Variação anual da rede de esgoto                                             3\n",
       "Receita direta com coleta de esgoto                                          3\n",
       "Tarifa de coleta de esgoto                                                   2\n",
       "Incidência de internações por dengue                                         2\n",
       "Internações por dengue                                                       2\n",
       "Despesas com internações por dengue                                          2\n",
       "Óbitos por doenças respiratórias (0 a 4 anos de idade)                       2\n",
       "Incidência de óbitos por doenças respiratórias (0 a 4 anos de idade)         2\n",
       "Percentagem da população branca sem acesso à água                            1\n",
       "Percentagem da população preta sem acesso à água                             1\n",
       "Percentagem da população amarela sem acesso à água                           1\n",
       "Percentagem da população parda sem acesso à água                             1\n",
       "Percentagem da população indígena sem acesso à água                          1\n",
       "Percentagem da população branca sem acesso à coleta de esgoto                1\n",
       "Despesas com internações por malária                                         1\n",
       "Internações totais de pessoas autodeclaradas pretas                          1\n",
       "Percentagem da população indígena sem acesso à coleta de esgoto              1\n",
       "Percentagem da população parda sem acesso à coleta de esgoto                 1\n",
       "Internações por malária                                                      1\n",
       "Percentagem da população amarela sem acesso à coleta de esgoto               1\n",
       "Percentagem da população preta sem acesso à coleta de esgoto                 1\n",
       "Incidência de internações por malária                                        1\n",
       "Name: count, dtype: int64"
      ]
     },
     "execution_count": 12,
     "metadata": {},
     "output_type": "execute_result"
    }
   ],
   "source": [
    "df['indicador'].value_counts()"
   ]
  }
 ],
 "metadata": {
  "kernelspec": {
   "display_name": "Python 3",
   "language": "python",
   "name": "python3"
  },
  "language_info": {
   "codemirror_mode": {
    "name": "ipython",
    "version": 3
   },
   "file_extension": ".py",
   "mimetype": "text/x-python",
   "name": "python",
   "nbconvert_exporter": "python",
   "pygments_lexer": "ipython3",
   "version": "3.10.11"
  }
 },
 "nbformat": 4,
 "nbformat_minor": 2
}
